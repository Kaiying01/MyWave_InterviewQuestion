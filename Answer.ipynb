{
 "cells": [
  {
   "cell_type": "code",
   "execution_count": 1,
   "metadata": {},
   "outputs": [
    {
     "name": "stdout",
     "output_type": "stream",
     "text": [
      "[400, 55, 28, 8, -16, -36]\n"
     ]
    }
   ],
   "source": [
    "data_list = [21, 400, 8, -3, 77, 99, -16, 55, 111, -36, 28]\n",
    "new_list = []\n",
    "\n",
    "while data_list:\n",
    "    minimum = data_list[0]\n",
    "    for x in data_list: \n",
    "        if x > minimum:\n",
    "           minimum = x\n",
    "    new_list.append(minimum)\n",
    "    data_list.remove(minimum)\n",
    "\n",
    "result = list(filter (lambda x: (x % 4 == 0) or (x % 5 ==0), new_list))\n",
    "\n",
    "print(result)\n"
   ]
  }
 ],
 "metadata": {
  "kernelspec": {
   "display_name": "Python 3.9.7 ('base')",
   "language": "python",
   "name": "python3"
  },
  "language_info": {
   "codemirror_mode": {
    "name": "ipython",
    "version": 3
   },
   "file_extension": ".py",
   "mimetype": "text/x-python",
   "name": "python",
   "nbconvert_exporter": "python",
   "pygments_lexer": "ipython3",
   "version": "3.9.7"
  },
  "orig_nbformat": 4,
  "vscode": {
   "interpreter": {
    "hash": "d5d0de61fe1417a4d54faf0a4c6fc73fcfe2f47c97ee634933d9d3170d24294a"
   }
  }
 },
 "nbformat": 4,
 "nbformat_minor": 2
}
